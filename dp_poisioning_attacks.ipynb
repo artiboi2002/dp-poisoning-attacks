{
  "nbformat": 4,
  "nbformat_minor": 0,
  "metadata": {
    "colab": {
      "provenance": [],
      "gpuType": "T4",
      "authorship_tag": "ABX9TyNxhnXePbilF37I4CzoO3fs",
      "include_colab_link": true
    },
    "kernelspec": {
      "name": "python3",
      "display_name": "Python 3"
    },
    "language_info": {
      "name": "python"
    },
    "accelerator": "GPU"
  },
  "cells": [
    {
      "cell_type": "markdown",
      "metadata": {
        "id": "view-in-github",
        "colab_type": "text"
      },
      "source": [
        "<a href=\"https://colab.research.google.com/github/artiboi2002/dp-poisoning-attacks/blob/main/dp_poisioning_attacks.ipynb\" target=\"_parent\"><img src=\"https://colab.research.google.com/assets/colab-badge.svg\" alt=\"Open In Colab\"/></a>"
      ]
    },
    {
      "cell_type": "code",
      "source": [
        "import torch\n",
        "import torch.nn as nn\n",
        "import torch.nn.functional as F\n",
        "from torch.utils.data import DataLoader\n",
        "from torchvision import datasets, transforms\n",
        "from torchvision.utils import make_grid\n",
        "import numpy as np\n",
        "import pandas as pd\n",
        "from sklearn.metrics import confusion_matrix\n",
        "import matplotlib.pyplot as plt\n",
        "%matplotlib inline"
      ],
      "metadata": {
        "id": "nXVzH_2M6s92"
      },
      "execution_count": 72,
      "outputs": []
    },
    {
      "cell_type": "code",
      "source": [
        "# Convernt MNIST image files into tensor of 4 dimensions(# of images, Height, Width, Color Channel)\n",
        "transform = transforms.ToTensor()"
      ],
      "metadata": {
        "id": "w529AIwG-W6B"
      },
      "execution_count": 73,
      "outputs": []
    },
    {
      "cell_type": "code",
      "source": [
        "# Train Data\n",
        "train_data = datasets.MNIST(root='/cnn_data', train=True, download=True, transform=transform)"
      ],
      "metadata": {
        "id": "-svLV9I2-yAS"
      },
      "execution_count": 74,
      "outputs": []
    },
    {
      "cell_type": "code",
      "source": [
        "test_data = datasets.MNIST(root='/cnn_data', train=False, download=True, transform=transform)"
      ],
      "metadata": {
        "id": "V1HXNjRM_Rbl"
      },
      "execution_count": 75,
      "outputs": []
    },
    {
      "cell_type": "code",
      "source": [
        "train_data"
      ],
      "metadata": {
        "colab": {
          "base_uri": "https://localhost:8080/"
        },
        "id": "Lbne3NrY_X5M",
        "outputId": "b7bf1d1c-5059-4fc0-b2ad-76051bc1a161"
      },
      "execution_count": 76,
      "outputs": [
        {
          "output_type": "execute_result",
          "data": {
            "text/plain": [
              "Dataset MNIST\n",
              "    Number of datapoints: 60000\n",
              "    Root location: /cnn_data\n",
              "    Split: Train\n",
              "    StandardTransform\n",
              "Transform: ToTensor()"
            ]
          },
          "metadata": {},
          "execution_count": 76
        }
      ]
    },
    {
      "cell_type": "code",
      "source": [
        "test_data"
      ],
      "metadata": {
        "colab": {
          "base_uri": "https://localhost:8080/"
        },
        "id": "vutGjTsh_Y3t",
        "outputId": "ccaaebcb-59be-4943-a927-ed6d791768e3"
      },
      "execution_count": 77,
      "outputs": [
        {
          "output_type": "execute_result",
          "data": {
            "text/plain": [
              "Dataset MNIST\n",
              "    Number of datapoints: 10000\n",
              "    Root location: /cnn_data\n",
              "    Split: Test\n",
              "    StandardTransform\n",
              "Transform: ToTensor()"
            ]
          },
          "metadata": {},
          "execution_count": 77
        }
      ]
    },
    {
      "cell_type": "code",
      "source": [
        "# Create a small batch size for images for example 10\n",
        "train_loader = DataLoader(train_data, batch_size = 10, shuffle=True)\n",
        "test_loader = DataLoader(test_data, batch_size = 10, shuffle=False)"
      ],
      "metadata": {
        "id": "3NjI_T3rBSZ4"
      },
      "execution_count": 78,
      "outputs": []
    },
    {
      "cell_type": "code",
      "source": [
        "#Define our convolutional neuro network model\n",
        "#Describe Convolutional Layer and whats its doing (2 convolutional layer) - just example\n",
        "conv1 = nn.Conv2d(1, 6, 3, 1)\n",
        "conv2 = nn.Conv2d(6, 16, 3,1)"
      ],
      "metadata": {
        "id": "kzmgFmcyBjDH"
      },
      "execution_count": 79,
      "outputs": []
    },
    {
      "cell_type": "code",
      "source": [
        "# Grab 1 MNIST record/image\n",
        "for i, (X_Train, Y_Train) in enumerate(train_data):\n",
        "  break"
      ],
      "metadata": {
        "id": "_WHuXzVKCRde"
      },
      "execution_count": 80,
      "outputs": []
    },
    {
      "cell_type": "code",
      "source": [
        "X_Train.shape"
      ],
      "metadata": {
        "colab": {
          "base_uri": "https://localhost:8080/"
        },
        "id": "n0WmGXL7C9wW",
        "outputId": "b65bf1f3-bd0c-4516-b41e-8846df55611a"
      },
      "execution_count": 81,
      "outputs": [
        {
          "output_type": "execute_result",
          "data": {
            "text/plain": [
              "torch.Size([1, 28, 28])"
            ]
          },
          "metadata": {},
          "execution_count": 81
        }
      ]
    },
    {
      "cell_type": "code",
      "source": [
        "x = X_Train.view(1,1,28,28)"
      ],
      "metadata": {
        "id": "I9hA6B4MDAZ-"
      },
      "execution_count": 82,
      "outputs": []
    },
    {
      "cell_type": "code",
      "source": [
        "#Perform our firt confoloctuion\n",
        "x = F.relu(conv1(x)) #Recified Linear Unit for our activiation function"
      ],
      "metadata": {
        "id": "kJPpi3UEDQwh"
      },
      "execution_count": 83,
      "outputs": []
    },
    {
      "cell_type": "code",
      "source": [
        "#1 single image, 6 the filters, 26 by 26 is the image.\n",
        "x.shape"
      ],
      "metadata": {
        "colab": {
          "base_uri": "https://localhost:8080/"
        },
        "id": "xJfpmHwRDQU3",
        "outputId": "47f40e2d-4fb6-44d1-a059-c5078a469d3f"
      },
      "execution_count": 84,
      "outputs": [
        {
          "output_type": "execute_result",
          "data": {
            "text/plain": [
              "torch.Size([1, 6, 26, 26])"
            ]
          },
          "metadata": {},
          "execution_count": 84
        }
      ]
    },
    {
      "cell_type": "code",
      "source": [
        "# pass throught the pooling layer\n",
        "x = F.max_pool2d(x, 2,2) #kernal of 2 and stride of 2"
      ],
      "metadata": {
        "id": "gR640cm9DimJ"
      },
      "execution_count": 85,
      "outputs": []
    },
    {
      "cell_type": "code",
      "source": [
        "x.shape"
      ],
      "metadata": {
        "colab": {
          "base_uri": "https://localhost:8080/"
        },
        "id": "0v8Aro3TEXSd",
        "outputId": "316cc143-bddf-4e34-8727-0c4280b18bca"
      },
      "execution_count": 86,
      "outputs": [
        {
          "output_type": "execute_result",
          "data": {
            "text/plain": [
              "torch.Size([1, 6, 13, 13])"
            ]
          },
          "metadata": {},
          "execution_count": 86
        }
      ]
    },
    {
      "cell_type": "code",
      "source": [
        "# Second convultional layer\n",
        "x = F.relu(conv2(x))"
      ],
      "metadata": {
        "id": "lXU2wnLqEYJ1"
      },
      "execution_count": 87,
      "outputs": []
    },
    {
      "cell_type": "code",
      "source": [
        "x.shape #We didnt set padding so we lose 2 pixels around the outside of the image"
      ],
      "metadata": {
        "colab": {
          "base_uri": "https://localhost:8080/"
        },
        "id": "cd2dDBZrEysI",
        "outputId": "b2a2d4f6-7e95-436e-d718-5ea5c26b519c"
      },
      "execution_count": 88,
      "outputs": [
        {
          "output_type": "execute_result",
          "data": {
            "text/plain": [
              "torch.Size([1, 16, 11, 11])"
            ]
          },
          "metadata": {},
          "execution_count": 88
        }
      ]
    },
    {
      "cell_type": "code",
      "source": [
        "#Pooling layer\n",
        "x = F.max_pool2d(x, 2,2)"
      ],
      "metadata": {
        "id": "BmlUOF2AEziv"
      },
      "execution_count": 89,
      "outputs": []
    },
    {
      "cell_type": "code",
      "source": [
        "x.shape #11/2 is 5.5 but we need to round down because we cant invent the data"
      ],
      "metadata": {
        "colab": {
          "base_uri": "https://localhost:8080/"
        },
        "id": "DCZH6O4FFG8B",
        "outputId": "b0d308d1-0b07-4d09-9d59-e12b3c543201"
      },
      "execution_count": 90,
      "outputs": [
        {
          "output_type": "execute_result",
          "data": {
            "text/plain": [
              "torch.Size([1, 16, 5, 5])"
            ]
          },
          "metadata": {},
          "execution_count": 90
        }
      ]
    },
    {
      "cell_type": "code",
      "source": [
        "#(28-2) / 2-2) / 2 = 5.5"
      ],
      "metadata": {
        "id": "DcTHTYcbFH6h"
      },
      "execution_count": 91,
      "outputs": []
    },
    {
      "cell_type": "code",
      "source": [
        "class ConvolutionalNeuralNetwork(nn.Module):\n",
        "  def __init__(self):\n",
        "    super().__init__()\n",
        "    self.conv1 = nn.Conv2d(1, 6, 3, 1)\n",
        "    self.conv2 = nn.Conv2d(6, 16, 3,1)\n",
        "    # Fully connected layer\n",
        "    self.fc1 = nn.Linear(5*5*16, 120)\n",
        "    self.fc2 = nn.Linear(120, 84)\n",
        "    self.fc3 = nn.Linear(84, 10)\n",
        "\n",
        "  def forward(self, x):\n",
        "    x = F.relu(self.conv1(x))\n",
        "    x = F.max_pool2d(x, 2,2) #2x2 kernal and a stride of 2\n",
        "    x = F.relu(self.conv2(x)) #1 image, 6 output, 3 kernal, 1 stride\n",
        "    x = F.max_pool2d(x, 2, 2)\n",
        "\n",
        "    #Review to flatten in out\n",
        "    x = x.view(-1, 16*5*5)\n",
        "\n",
        "    #Fully connected layers\n",
        "    x = F.relu(self.fc1(x))\n",
        "    x = F.relu(self.fc2(x))\n",
        "    x = self.fc3(x)\n",
        "\n",
        "    return F.log_softmax(x, dim = 1)"
      ],
      "metadata": {
        "id": "qfMUseVxGhls"
      },
      "execution_count": 92,
      "outputs": []
    },
    {
      "cell_type": "code",
      "source": [
        "#Create an instaste of the model\n",
        "torch.manual_seed(41)\n",
        "model = ConvolutionalNeuralNetwork()\n",
        "model"
      ],
      "metadata": {
        "colab": {
          "base_uri": "https://localhost:8080/"
        },
        "id": "hQhJgGLcGWe5",
        "outputId": "a362cbb4-3736-488a-8379-362dcad2fe8a"
      },
      "execution_count": 93,
      "outputs": [
        {
          "output_type": "execute_result",
          "data": {
            "text/plain": [
              "ConvolutionalNeuralNetwork(\n",
              "  (conv1): Conv2d(1, 6, kernel_size=(3, 3), stride=(1, 1))\n",
              "  (conv2): Conv2d(6, 16, kernel_size=(3, 3), stride=(1, 1))\n",
              "  (fc1): Linear(in_features=400, out_features=120, bias=True)\n",
              "  (fc2): Linear(in_features=120, out_features=84, bias=True)\n",
              "  (fc3): Linear(in_features=84, out_features=10, bias=True)\n",
              ")"
            ]
          },
          "metadata": {},
          "execution_count": 93
        }
      ]
    },
    {
      "cell_type": "code",
      "source": [
        "# Loss function optimizer\n",
        "critirion = nn.CrossEntropyLoss()\n",
        "optimizer = torch.optim.Adam(model.parameters(), lr = 0.001) #Smaller the learning rate the longer is gonna take to train"
      ],
      "metadata": {
        "id": "NZX3wt3QIjfx"
      },
      "execution_count": 94,
      "outputs": []
    },
    {
      "cell_type": "code",
      "source": [
        "import time\n",
        "start_time = time.time()\n",
        "#Create variables to Track things\n",
        "epochs = 5\n",
        "train_losses = []\n",
        "test_losses = []\n",
        "train_correct = []\n",
        "test_correct = []\n",
        "\n",
        "\n",
        "#For loop of epochs\n",
        "for i in range(epochs):\n",
        "  train_corr = 0\n",
        "  test_corr = 0\n",
        "\n",
        "#Train\n",
        "  for b,(X_Train, Y_Train) in enumerate(train_loader):\n",
        "    b+=1 #start our batches at 1\n",
        "    y_pred = model(X_Train) #get prediciet values values from the training set\n",
        "    loss = critirion(y_pred, Y_Train) #Compare the prediticion to the correct answers in y_train\n",
        "\n",
        "    predicted = torch.max(y_pred.data,1)[1] #add up the number of correct predictions.\n",
        "    batch_corr = (predicted == Y_Train).sum() #how many we got correct from this specific batch T = 1 F = 0\n",
        "    train_corr += batch_corr #keep track as we go along and train\n",
        "\n",
        "    #update our parameters\n",
        "    optimizer.zero_grad()\n",
        "    loss.backward()\n",
        "    optimizer.step()\n",
        "\n",
        "#print some results\n",
        "    if b%600 == 0:\n",
        "      print(f'epoch: {i} Batch {b} loss: {loss.item()}')\n",
        "\n",
        "  train_losses.append(loss)\n",
        "  train_correct.append(train_corr)\n",
        "#Test\n",
        "  with torch.no_grad():\n",
        "    for b, (X_test, y_test) in enumerate(test_loader):\n",
        "      y_val = model(X_test)\n",
        "      predicted = torch.max(y_val.data, 1)[1]\n",
        "      test_corr += (predicted == y_test).sum()\n",
        "\n",
        "  loss = critirion(y_val, y_test)\n",
        "  test_losses.append(loss)\n",
        "  test_correct.append(test_corr)\n",
        "\n",
        "current_time = time.time()\n",
        "total_time = current_time - start_time\n",
        "print(f'Training took: {total_time/60} minutes')"
      ],
      "metadata": {
        "colab": {
          "base_uri": "https://localhost:8080/"
        },
        "id": "2O899r0gI7U6",
        "outputId": "91b5ac61-e5e7-477e-d48e-a7a77207ab07"
      },
      "execution_count": 97,
      "outputs": [
        {
          "output_type": "stream",
          "name": "stdout",
          "text": [
            "epoch: 0 Batch 600 loss: 0.07131509482860565\n",
            "epoch: 0 Batch 1200 loss: 0.003655762877315283\n",
            "epoch: 0 Batch 1800 loss: 0.0023013839963823557\n",
            "epoch: 0 Batch 2400 loss: 0.0029739486053586006\n",
            "epoch: 0 Batch 3000 loss: 5.5486867495346814e-05\n",
            "epoch: 0 Batch 3600 loss: 0.006476846989244223\n",
            "epoch: 0 Batch 4200 loss: 0.0001920349313877523\n",
            "epoch: 0 Batch 4800 loss: 0.007294879760593176\n",
            "epoch: 0 Batch 5400 loss: 0.0002611011441331357\n",
            "epoch: 0 Batch 6000 loss: 0.0003848215565085411\n",
            "epoch: 1 Batch 600 loss: 0.0026227659545838833\n",
            "epoch: 1 Batch 1200 loss: 0.13536551594734192\n",
            "epoch: 1 Batch 1800 loss: 0.28866511583328247\n",
            "epoch: 1 Batch 2400 loss: 0.034677911549806595\n",
            "epoch: 1 Batch 3000 loss: 0.1278015822172165\n",
            "epoch: 1 Batch 3600 loss: 0.002678908407688141\n",
            "epoch: 1 Batch 4200 loss: 0.06549855321645737\n",
            "epoch: 1 Batch 4800 loss: 0.00030171877006068826\n",
            "epoch: 1 Batch 5400 loss: 0.004392572678625584\n",
            "epoch: 1 Batch 6000 loss: 0.06843989342451096\n",
            "epoch: 2 Batch 600 loss: 0.04648704081773758\n",
            "epoch: 2 Batch 1200 loss: 0.0028014169074594975\n",
            "epoch: 2 Batch 1800 loss: 0.00023304778733290732\n",
            "epoch: 2 Batch 2400 loss: 0.48841914534568787\n",
            "epoch: 2 Batch 3000 loss: 0.01112594548612833\n",
            "epoch: 2 Batch 3600 loss: 0.012525254860520363\n",
            "epoch: 2 Batch 4200 loss: 0.003657923312857747\n",
            "epoch: 2 Batch 4800 loss: 2.4651651983731426e-05\n",
            "epoch: 2 Batch 5400 loss: 0.002752880798652768\n",
            "epoch: 2 Batch 6000 loss: 0.0050416504964232445\n",
            "epoch: 3 Batch 600 loss: 0.051049549132585526\n",
            "epoch: 3 Batch 1200 loss: 6.345878500724211e-05\n",
            "epoch: 3 Batch 1800 loss: 0.026026826351881027\n",
            "epoch: 3 Batch 2400 loss: 0.01859331503510475\n",
            "epoch: 3 Batch 3000 loss: 0.00023873010650277138\n",
            "epoch: 3 Batch 3600 loss: 0.00028721755370497704\n",
            "epoch: 3 Batch 4200 loss: 0.004363915883004665\n",
            "epoch: 3 Batch 4800 loss: 0.0028325743041932583\n",
            "epoch: 3 Batch 5400 loss: 9.628276893636212e-05\n",
            "epoch: 3 Batch 6000 loss: 6.985526124481112e-05\n",
            "epoch: 4 Batch 600 loss: 0.0002809265861287713\n",
            "epoch: 4 Batch 1200 loss: 8.124989835778251e-05\n",
            "epoch: 4 Batch 1800 loss: 0.0003152427379973233\n",
            "epoch: 4 Batch 2400 loss: 2.067046625597868e-05\n",
            "epoch: 4 Batch 3000 loss: 0.002111571840941906\n",
            "epoch: 4 Batch 3600 loss: 0.040499042719602585\n",
            "epoch: 4 Batch 4200 loss: 0.024907661601901054\n",
            "epoch: 4 Batch 4800 loss: 0.00018939630535896868\n",
            "epoch: 4 Batch 5400 loss: 0.0010349750518798828\n",
            "epoch: 4 Batch 6000 loss: 0.05740167573094368\n",
            "Training took: 3.113400864601135 minutes\n"
          ]
        }
      ]
    },
    {
      "cell_type": "code",
      "source": [
        "train_losses = [tl.item() for tl in train_losses]\n",
        "test_losses = [tl.item() for tl in test_losses]\n",
        "plt.plot(train_losses, label = 'Training Loss')\n",
        "plt.plot(test_losses, label = 'Testing Loss')\n",
        "plt.title('Training and Testing Loss')\n",
        "plt.legend()"
      ],
      "metadata": {
        "colab": {
          "base_uri": "https://localhost:8080/",
          "height": 469
        },
        "id": "Al5SCmXBJTq-",
        "outputId": "b7528df9-50de-47a0-99ce-ee787494e65a"
      },
      "execution_count": 99,
      "outputs": [
        {
          "output_type": "execute_result",
          "data": {
            "text/plain": [
              "<matplotlib.legend.Legend at 0x7addc94eff10>"
            ]
          },
          "metadata": {},
          "execution_count": 99
        },
        {
          "output_type": "display_data",
          "data": {
            "text/plain": [
              "<Figure size 640x480 with 1 Axes>"
            ],
            "image/png": "[encoded data removed]"
          },
          "metadata": {}
        }
      ]
    }
  ]
}